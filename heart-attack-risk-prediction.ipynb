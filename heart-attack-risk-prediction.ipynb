{
 "cells": [
  {
   "cell_type": "code",
   "execution_count": 1,
   "id": "34b1543f",
   "metadata": {
    "_cell_guid": "b1076dfc-b9ad-4769-8c92-a6c4dae69d19",
    "_uuid": "8f2839f25d086af736a60e9eeb907d3b93b6e0e5",
    "execution": {
     "iopub.execute_input": "2022-12-30T06:30:44.696151Z",
     "iopub.status.busy": "2022-12-30T06:30:44.695239Z",
     "iopub.status.idle": "2022-12-30T06:30:44.723166Z",
     "shell.execute_reply": "2022-12-30T06:30:44.721872Z"
    },
    "papermill": {
     "duration": 0.048713,
     "end_time": "2022-12-30T06:30:44.726712",
     "exception": false,
     "start_time": "2022-12-30T06:30:44.677999",
     "status": "completed"
    },
    "tags": []
   },
   "outputs": [
    {
     "name": "stdout",
     "output_type": "stream",
     "text": [
      "/kaggle/input/heart-attack-analysis-prediction-dataset/o2Saturation.csv\n",
      "/kaggle/input/heart-attack-analysis-prediction-dataset/heart.csv\n"
     ]
    }
   ],
   "source": [
    "# This Python 3 environment comes with many helpful analytics libraries installed\n",
    "# It is defined by the kaggle/python Docker image: https://github.com/kaggle/docker-python\n",
    "# For example, here's several helpful packages to load\n",
    "\n",
    "import numpy as np # linear algebra\n",
    "import pandas as pd # data processing, CSV file I/O (e.g. pd.read_csv)\n",
    "\n",
    "# Input data files are available in the read-only \"../input/\" directory\n",
    "# For example, running this (by clicking run or pressing Shift+Enter) will list all files under the input directory\n",
    "\n",
    "import os\n",
    "for dirname, _, filenames in os.walk('/kaggle/input'):\n",
    "    for filename in filenames:\n",
    "        print(os.path.join(dirname, filename))\n",
    "\n",
    "# You can write up to 20GB to the current directory (/kaggle/working/) that gets preserved as output when you create a version using \"Save & Run All\" \n",
    "# You can also write temporary files to /kaggle/temp/, but they won't be saved outside of the current session"
   ]
  },
  {
   "cell_type": "code",
   "execution_count": 2,
   "id": "59d27e6c",
   "metadata": {
    "execution": {
     "iopub.execute_input": "2022-12-30T06:30:44.758401Z",
     "iopub.status.busy": "2022-12-30T06:30:44.757881Z",
     "iopub.status.idle": "2022-12-30T06:30:46.591798Z",
     "shell.execute_reply": "2022-12-30T06:30:46.590256Z"
    },
    "papermill": {
     "duration": 1.855016,
     "end_time": "2022-12-30T06:30:46.595107",
     "exception": false,
     "start_time": "2022-12-30T06:30:44.740091",
     "status": "completed"
    },
    "tags": []
   },
   "outputs": [],
   "source": [
    "import matplotlib.pyplot as plt\n",
    "import seaborn as sns\n",
    "from sklearn.ensemble import RandomForestClassifier\n",
    "from sklearn.svm import SVC\n",
    "from sklearn.linear_model import LogisticRegression\n",
    "from sklearn.metrics import confusion_matrix\n",
    "from sklearn.model_selection import train_test_split, GridSearchCV\n",
    "from sklearn.preprocessing import StandardScaler, LabelEncoder\n",
    "%matplotlib inline"
   ]
  },
  {
   "cell_type": "raw",
   "id": "5430f1ed",
   "metadata": {
    "papermill": {
     "duration": 0.013418,
     "end_time": "2022-12-30T06:30:46.622982",
     "exception": false,
     "start_time": "2022-12-30T06:30:46.609564",
     "status": "completed"
    },
    "tags": []
   },
   "source": []
  },
  {
   "cell_type": "markdown",
   "id": "e489d577",
   "metadata": {
    "papermill": {
     "duration": 0.0143,
     "end_time": "2022-12-30T06:30:46.651970",
     "exception": false,
     "start_time": "2022-12-30T06:30:46.637670",
     "status": "completed"
    },
    "tags": []
   },
   "source": [
    "# Loading Datasets"
   ]
  },
  {
   "cell_type": "code",
   "execution_count": 3,
   "id": "ed38457a",
   "metadata": {
    "execution": {
     "iopub.execute_input": "2022-12-30T06:30:46.683069Z",
     "iopub.status.busy": "2022-12-30T06:30:46.682554Z",
     "iopub.status.idle": "2022-12-30T06:30:46.725341Z",
     "shell.execute_reply": "2022-12-30T06:30:46.724193Z"
    },
    "papermill": {
     "duration": 0.060867,
     "end_time": "2022-12-30T06:30:46.727934",
     "exception": false,
     "start_time": "2022-12-30T06:30:46.667067",
     "status": "completed"
    },
    "tags": []
   },
   "outputs": [
    {
     "data": {
      "text/html": [
       "<div>\n",
       "<style scoped>\n",
       "    .dataframe tbody tr th:only-of-type {\n",
       "        vertical-align: middle;\n",
       "    }\n",
       "\n",
       "    .dataframe tbody tr th {\n",
       "        vertical-align: top;\n",
       "    }\n",
       "\n",
       "    .dataframe thead th {\n",
       "        text-align: right;\n",
       "    }\n",
       "</style>\n",
       "<table border=\"1\" class=\"dataframe\">\n",
       "  <thead>\n",
       "    <tr style=\"text-align: right;\">\n",
       "      <th></th>\n",
       "      <th>age</th>\n",
       "      <th>sex</th>\n",
       "      <th>cp</th>\n",
       "      <th>trtbps</th>\n",
       "      <th>chol</th>\n",
       "      <th>fbs</th>\n",
       "      <th>restecg</th>\n",
       "      <th>thalachh</th>\n",
       "      <th>exng</th>\n",
       "      <th>oldpeak</th>\n",
       "      <th>slp</th>\n",
       "      <th>caa</th>\n",
       "      <th>thall</th>\n",
       "      <th>output</th>\n",
       "    </tr>\n",
       "  </thead>\n",
       "  <tbody>\n",
       "    <tr>\n",
       "      <th>0</th>\n",
       "      <td>63</td>\n",
       "      <td>1</td>\n",
       "      <td>3</td>\n",
       "      <td>145</td>\n",
       "      <td>233</td>\n",
       "      <td>1</td>\n",
       "      <td>0</td>\n",
       "      <td>150</td>\n",
       "      <td>0</td>\n",
       "      <td>2.3</td>\n",
       "      <td>0</td>\n",
       "      <td>0</td>\n",
       "      <td>1</td>\n",
       "      <td>1</td>\n",
       "    </tr>\n",
       "    <tr>\n",
       "      <th>1</th>\n",
       "      <td>37</td>\n",
       "      <td>1</td>\n",
       "      <td>2</td>\n",
       "      <td>130</td>\n",
       "      <td>250</td>\n",
       "      <td>0</td>\n",
       "      <td>1</td>\n",
       "      <td>187</td>\n",
       "      <td>0</td>\n",
       "      <td>3.5</td>\n",
       "      <td>0</td>\n",
       "      <td>0</td>\n",
       "      <td>2</td>\n",
       "      <td>1</td>\n",
       "    </tr>\n",
       "    <tr>\n",
       "      <th>2</th>\n",
       "      <td>41</td>\n",
       "      <td>0</td>\n",
       "      <td>1</td>\n",
       "      <td>130</td>\n",
       "      <td>204</td>\n",
       "      <td>0</td>\n",
       "      <td>0</td>\n",
       "      <td>172</td>\n",
       "      <td>0</td>\n",
       "      <td>1.4</td>\n",
       "      <td>2</td>\n",
       "      <td>0</td>\n",
       "      <td>2</td>\n",
       "      <td>1</td>\n",
       "    </tr>\n",
       "    <tr>\n",
       "      <th>3</th>\n",
       "      <td>56</td>\n",
       "      <td>1</td>\n",
       "      <td>1</td>\n",
       "      <td>120</td>\n",
       "      <td>236</td>\n",
       "      <td>0</td>\n",
       "      <td>1</td>\n",
       "      <td>178</td>\n",
       "      <td>0</td>\n",
       "      <td>0.8</td>\n",
       "      <td>2</td>\n",
       "      <td>0</td>\n",
       "      <td>2</td>\n",
       "      <td>1</td>\n",
       "    </tr>\n",
       "    <tr>\n",
       "      <th>4</th>\n",
       "      <td>57</td>\n",
       "      <td>0</td>\n",
       "      <td>0</td>\n",
       "      <td>120</td>\n",
       "      <td>354</td>\n",
       "      <td>0</td>\n",
       "      <td>1</td>\n",
       "      <td>163</td>\n",
       "      <td>1</td>\n",
       "      <td>0.6</td>\n",
       "      <td>2</td>\n",
       "      <td>0</td>\n",
       "      <td>2</td>\n",
       "      <td>1</td>\n",
       "    </tr>\n",
       "  </tbody>\n",
       "</table>\n",
       "</div>"
      ],
      "text/plain": [
       "   age  sex  cp  trtbps  chol  fbs  restecg  thalachh  exng  oldpeak  slp  \\\n",
       "0   63    1   3     145   233    1        0       150     0      2.3    0   \n",
       "1   37    1   2     130   250    0        1       187     0      3.5    0   \n",
       "2   41    0   1     130   204    0        0       172     0      1.4    2   \n",
       "3   56    1   1     120   236    0        1       178     0      0.8    2   \n",
       "4   57    0   0     120   354    0        1       163     1      0.6    2   \n",
       "\n",
       "   caa  thall  output  \n",
       "0    0      1       1  \n",
       "1    0      2       1  \n",
       "2    0      2       1  \n",
       "3    0      2       1  \n",
       "4    0      2       1  "
      ]
     },
     "execution_count": 3,
     "metadata": {},
     "output_type": "execute_result"
    }
   ],
   "source": [
    "df=pd.read_csv('/kaggle/input/heart-attack-analysis-prediction-dataset/heart.csv')\n",
    "df.head()"
   ]
  },
  {
   "cell_type": "markdown",
   "id": "08d48350",
   "metadata": {
    "papermill": {
     "duration": 0.013044,
     "end_time": "2022-12-30T06:30:46.755155",
     "exception": false,
     "start_time": "2022-12-30T06:30:46.742111",
     "status": "completed"
    },
    "tags": []
   },
   "source": [
    "# Checking if there is any null data"
   ]
  },
  {
   "cell_type": "code",
   "execution_count": 4,
   "id": "9800eaf1",
   "metadata": {
    "execution": {
     "iopub.execute_input": "2022-12-30T06:30:46.785609Z",
     "iopub.status.busy": "2022-12-30T06:30:46.784081Z",
     "iopub.status.idle": "2022-12-30T06:30:46.795612Z",
     "shell.execute_reply": "2022-12-30T06:30:46.794245Z"
    },
    "papermill": {
     "duration": 0.029135,
     "end_time": "2022-12-30T06:30:46.798282",
     "exception": false,
     "start_time": "2022-12-30T06:30:46.769147",
     "status": "completed"
    },
    "tags": []
   },
   "outputs": [
    {
     "data": {
      "text/plain": [
       "age         0\n",
       "sex         0\n",
       "cp          0\n",
       "trtbps      0\n",
       "chol        0\n",
       "fbs         0\n",
       "restecg     0\n",
       "thalachh    0\n",
       "exng        0\n",
       "oldpeak     0\n",
       "slp         0\n",
       "caa         0\n",
       "thall       0\n",
       "output      0\n",
       "dtype: int64"
      ]
     },
     "execution_count": 4,
     "metadata": {},
     "output_type": "execute_result"
    }
   ],
   "source": [
    "df.isna().sum()"
   ]
  },
  {
   "cell_type": "code",
   "execution_count": null,
   "id": "140230b5",
   "metadata": {
    "papermill": {
     "duration": 0.014018,
     "end_time": "2022-12-30T06:30:46.825767",
     "exception": false,
     "start_time": "2022-12-30T06:30:46.811749",
     "status": "completed"
    },
    "tags": []
   },
   "outputs": [],
   "source": []
  },
  {
   "cell_type": "markdown",
   "id": "5d2bc2c2",
   "metadata": {
    "papermill": {
     "duration": 0.014503,
     "end_time": "2022-12-30T06:30:46.854311",
     "exception": false,
     "start_time": "2022-12-30T06:30:46.839808",
     "status": "completed"
    },
    "tags": []
   },
   "source": [
    "# Plotting and Visualization"
   ]
  },
  {
   "cell_type": "code",
   "execution_count": 5,
   "id": "68483750",
   "metadata": {
    "execution": {
     "iopub.execute_input": "2022-12-30T06:30:46.884049Z",
     "iopub.status.busy": "2022-12-30T06:30:46.882794Z",
     "iopub.status.idle": "2022-12-30T06:30:47.198639Z",
     "shell.execute_reply": "2022-12-30T06:30:47.196922Z"
    },
    "papermill": {
     "duration": 0.333955,
     "end_time": "2022-12-30T06:30:47.201723",
     "exception": false,
     "start_time": "2022-12-30T06:30:46.867768",
     "status": "completed"
    },
    "tags": []
   },
   "outputs": [
    {
     "data": {
      "text/plain": [
       "<AxesSubplot:xlabel='age', ylabel='chol'>"
      ]
     },
     "execution_count": 5,
     "metadata": {},
     "output_type": "execute_result"
    },
    {
     "data": {
      "image/png": "[encoded data removed]",
      "text/plain": [
       "<Figure size 432x288 with 1 Axes>"
      ]
     },
     "metadata": {
      "needs_background": "light"
     },
     "output_type": "display_data"
    }
   ],
   "source": [
    "sns.scatterplot(x='age',y='chol',data=df)"
   ]
  },
  {
   "cell_type": "code",
   "execution_count": 6,
   "id": "db6980f9",
   "metadata": {
    "execution": {
     "iopub.execute_input": "2022-12-30T06:30:47.234877Z",
     "iopub.status.busy": "2022-12-30T06:30:47.234303Z",
     "iopub.status.idle": "2022-12-30T06:30:47.605054Z",
     "shell.execute_reply": "2022-12-30T06:30:47.603998Z"
    },
    "papermill": {
     "duration": 0.391922,
     "end_time": "2022-12-30T06:30:47.608452",
     "exception": false,
     "start_time": "2022-12-30T06:30:47.216530",
     "status": "completed"
    },
    "tags": []
   },
   "outputs": [
    {
     "data": {
      "text/plain": [
       "<AxesSubplot:xlabel='cp', ylabel='age'>"
      ]
     },
     "execution_count": 6,
     "metadata": {},
     "output_type": "execute_result"
    },
    {
     "data": {
      "image/png": "[encoded data removed]",
      "text/plain": [
       "<Figure size 432x288 with 1 Axes>"
      ]
     },
     "metadata": {
      "needs_background": "light"
     },
     "output_type": "display_data"
    }
   ],
   "source": [
    "sns.barplot(x='cp',y='age',data=df)"
   ]
  },
  {
   "cell_type": "code",
   "execution_count": 7,
   "id": "8586894c",
   "metadata": {
    "execution": {
     "iopub.execute_input": "2022-12-30T06:30:47.645234Z",
     "iopub.status.busy": "2022-12-30T06:30:47.643990Z",
     "iopub.status.idle": "2022-12-30T06:30:47.924470Z",
     "shell.execute_reply": "2022-12-30T06:30:47.923431Z"
    },
    "papermill": {
     "duration": 0.300833,
     "end_time": "2022-12-30T06:30:47.927317",
     "exception": false,
     "start_time": "2022-12-30T06:30:47.626484",
     "status": "completed"
    },
    "tags": []
   },
   "outputs": [
    {
     "data": {
      "text/plain": [
       "<AxesSubplot:xlabel='output', ylabel='cp'>"
      ]
     },
     "execution_count": 7,
     "metadata": {},
     "output_type": "execute_result"
    },
    {
     "data": {
      "image/png": "[encoded data removed]",
      "text/plain": [
       "<Figure size 432x288 with 1 Axes>"
      ]
     },
     "metadata": {
      "needs_background": "light"
     },
     "output_type": "display_data"
    }
   ],
   "source": [
    " sns.barplot(x='output',y='cp',data=df)"
   ]
  },
  {
   "cell_type": "markdown",
   "id": "ef4ef913",
   "metadata": {
    "papermill": {
     "duration": 0.01415,
     "end_time": "2022-12-30T06:30:47.957743",
     "exception": false,
     "start_time": "2022-12-30T06:30:47.943593",
     "status": "completed"
    },
    "tags": []
   },
   "source": []
  },
  {
   "cell_type": "markdown",
   "id": "726f9b4f",
   "metadata": {
    "papermill": {
     "duration": 0.014836,
     "end_time": "2022-12-30T06:30:47.987048",
     "exception": false,
     "start_time": "2022-12-30T06:30:47.972212",
     "status": "completed"
    },
    "tags": []
   },
   "source": [
    "# Visualization"
   ]
  },
  {
   "cell_type": "markdown",
   "id": "24068a14",
   "metadata": {
    "papermill": {
     "duration": 0.01496,
     "end_time": "2022-12-30T06:30:48.016509",
     "exception": false,
     "start_time": "2022-12-30T06:30:48.001549",
     "status": "completed"
    },
    "tags": []
   },
   "source": [
    "chest main mostly effect to cause heartattack\n",
    "because lower the chest pain  the probablity of hea"
   ]
  },
  {
   "cell_type": "code",
   "execution_count": 8,
   "id": "a275c35a",
   "metadata": {
    "execution": {
     "iopub.execute_input": "2022-12-30T06:30:48.050393Z",
     "iopub.status.busy": "2022-12-30T06:30:48.049840Z",
     "iopub.status.idle": "2022-12-30T06:30:48.317449Z",
     "shell.execute_reply": "2022-12-30T06:30:48.316111Z"
    },
    "papermill": {
     "duration": 0.289129,
     "end_time": "2022-12-30T06:30:48.320406",
     "exception": false,
     "start_time": "2022-12-30T06:30:48.031277",
     "status": "completed"
    },
    "tags": []
   },
   "outputs": [
    {
     "data": {
      "text/plain": [
       "<AxesSubplot:xlabel='output', ylabel='chol'>"
      ]
     },
     "execution_count": 8,
     "metadata": {},
     "output_type": "execute_result"
    },
    {
     "data": {
      "image/png": "[encoded data removed]",
      "text/plain": [
       "<Figure size 432x288 with 1 Axes>"
      ]
     },
     "metadata": {
      "needs_background": "light"
     },
     "output_type": "display_data"
    }
   ],
   "source": [
    " sns.barplot(x='output',y='chol',data=df)"
   ]
  },
  {
   "cell_type": "code",
   "execution_count": 9,
   "id": "d8f53cb4",
   "metadata": {
    "execution": {
     "iopub.execute_input": "2022-12-30T06:30:48.352285Z",
     "iopub.status.busy": "2022-12-30T06:30:48.351037Z",
     "iopub.status.idle": "2022-12-30T06:30:48.617620Z",
     "shell.execute_reply": "2022-12-30T06:30:48.616030Z"
    },
    "papermill": {
     "duration": 0.285687,
     "end_time": "2022-12-30T06:30:48.620637",
     "exception": false,
     "start_time": "2022-12-30T06:30:48.334950",
     "status": "completed"
    },
    "tags": []
   },
   "outputs": [
    {
     "data": {
      "text/plain": [
       "<AxesSubplot:xlabel='output', ylabel='age'>"
      ]
     },
     "execution_count": 9,
     "metadata": {},
     "output_type": "execute_result"
    },
    {
     "data": {
      "image/png": "[encoded data removed]",
      "text/plain": [
       "<Figure size 432x288 with 1 Axes>"
      ]
     },
     "metadata": {
      "needs_background": "light"
     },
     "output_type": "display_data"
    }
   ],
   "source": [
    " sns.barplot(x='output',y='age',data=df)"
   ]
  },
  {
   "cell_type": "markdown",
   "id": "5ad2722e",
   "metadata": {
    "papermill": {
     "duration": 0.014419,
     "end_time": "2022-12-30T06:30:48.650173",
     "exception": false,
     "start_time": "2022-12-30T06:30:48.635754",
     "status": "completed"
    },
    "tags": []
   },
   "source": []
  },
  {
   "cell_type": "code",
   "execution_count": 10,
   "id": "0033cdab",
   "metadata": {
    "execution": {
     "iopub.execute_input": "2022-12-30T06:30:48.682189Z",
     "iopub.status.busy": "2022-12-30T06:30:48.681713Z",
     "iopub.status.idle": "2022-12-30T06:30:48.690919Z",
     "shell.execute_reply": "2022-12-30T06:30:48.689535Z"
    },
    "papermill": {
     "duration": 0.028733,
     "end_time": "2022-12-30T06:30:48.693783",
     "exception": false,
     "start_time": "2022-12-30T06:30:48.665050",
     "status": "completed"
    },
    "tags": []
   },
   "outputs": [],
   "source": [
    "x=df.drop(['output'],axis=1)\n",
    "y=df['output']"
   ]
  },
  {
   "cell_type": "markdown",
   "id": "66765490",
   "metadata": {
    "papermill": {
     "duration": 0.015854,
     "end_time": "2022-12-30T06:30:48.725509",
     "exception": false,
     "start_time": "2022-12-30T06:30:48.709655",
     "status": "completed"
    },
    "tags": []
   },
   "source": []
  },
  {
   "cell_type": "code",
   "execution_count": 11,
   "id": "c5010874",
   "metadata": {
    "execution": {
     "iopub.execute_input": "2022-12-30T06:30:48.759983Z",
     "iopub.status.busy": "2022-12-30T06:30:48.759476Z",
     "iopub.status.idle": "2022-12-30T06:30:48.767652Z",
     "shell.execute_reply": "2022-12-30T06:30:48.766296Z"
    },
    "papermill": {
     "duration": 0.028426,
     "end_time": "2022-12-30T06:30:48.770205",
     "exception": false,
     "start_time": "2022-12-30T06:30:48.741779",
     "status": "completed"
    },
    "tags": []
   },
   "outputs": [],
   "source": [
    "xtrain,xtest,ytrain,ytest=train_test_split(x,y,test_size=0.2,random_state=42)"
   ]
  },
  {
   "cell_type": "markdown",
   "id": "a17f54a7",
   "metadata": {
    "papermill": {
     "duration": 0.014537,
     "end_time": "2022-12-30T06:30:48.799712",
     "exception": false,
     "start_time": "2022-12-30T06:30:48.785175",
     "status": "completed"
    },
    "tags": []
   },
   "source": []
  },
  {
   "cell_type": "code",
   "execution_count": 12,
   "id": "a5bfcd85",
   "metadata": {
    "execution": {
     "iopub.execute_input": "2022-12-30T06:30:48.833501Z",
     "iopub.status.busy": "2022-12-30T06:30:48.832037Z",
     "iopub.status.idle": "2022-12-30T06:30:48.838156Z",
     "shell.execute_reply": "2022-12-30T06:30:48.837023Z"
    },
    "papermill": {
     "duration": 0.025283,
     "end_time": "2022-12-30T06:30:48.840663",
     "exception": false,
     "start_time": "2022-12-30T06:30:48.815380",
     "status": "completed"
    },
    "tags": []
   },
   "outputs": [],
   "source": [
    "sc=StandardScaler()"
   ]
  },
  {
   "cell_type": "code",
   "execution_count": 13,
   "id": "90e103bc",
   "metadata": {
    "execution": {
     "iopub.execute_input": "2022-12-30T06:30:48.873482Z",
     "iopub.status.busy": "2022-12-30T06:30:48.872603Z",
     "iopub.status.idle": "2022-12-30T06:30:48.887519Z",
     "shell.execute_reply": "2022-12-30T06:30:48.885964Z"
    },
    "papermill": {
     "duration": 0.035221,
     "end_time": "2022-12-30T06:30:48.890930",
     "exception": false,
     "start_time": "2022-12-30T06:30:48.855709",
     "status": "completed"
    },
    "tags": []
   },
   "outputs": [],
   "source": [
    "xtrain=sc.fit_transform(xtrain)\n",
    "xtest=sc.fit_transform(xtest)"
   ]
  },
  {
   "cell_type": "markdown",
   "id": "ab7cdf0a",
   "metadata": {
    "papermill": {
     "duration": 0.016074,
     "end_time": "2022-12-30T06:30:48.922993",
     "exception": false,
     "start_time": "2022-12-30T06:30:48.906919",
     "status": "completed"
    },
    "tags": []
   },
   "source": [
    "# Logistic Regression"
   ]
  },
  {
   "cell_type": "code",
   "execution_count": 14,
   "id": "45c9d84f",
   "metadata": {
    "execution": {
     "iopub.execute_input": "2022-12-30T06:30:48.955826Z",
     "iopub.status.busy": "2022-12-30T06:30:48.955319Z",
     "iopub.status.idle": "2022-12-30T06:30:48.961164Z",
     "shell.execute_reply": "2022-12-30T06:30:48.959615Z"
    },
    "papermill": {
     "duration": 0.025147,
     "end_time": "2022-12-30T06:30:48.963874",
     "exception": false,
     "start_time": "2022-12-30T06:30:48.938727",
     "status": "completed"
    },
    "tags": []
   },
   "outputs": [],
   "source": [
    "lr=LogisticRegression()"
   ]
  },
  {
   "cell_type": "code",
   "execution_count": 15,
   "id": "65b56f92",
   "metadata": {
    "execution": {
     "iopub.execute_input": "2022-12-30T06:30:48.997557Z",
     "iopub.status.busy": "2022-12-30T06:30:48.996553Z",
     "iopub.status.idle": "2022-12-30T06:30:49.021835Z",
     "shell.execute_reply": "2022-12-30T06:30:49.020525Z"
    },
    "papermill": {
     "duration": 0.045589,
     "end_time": "2022-12-30T06:30:49.024787",
     "exception": false,
     "start_time": "2022-12-30T06:30:48.979198",
     "status": "completed"
    },
    "tags": []
   },
   "outputs": [
    {
     "data": {
      "text/plain": [
       "LogisticRegression()"
      ]
     },
     "execution_count": 15,
     "metadata": {},
     "output_type": "execute_result"
    }
   ],
   "source": [
    "lr.fit(xtrain,ytrain)"
   ]
  },
  {
   "cell_type": "code",
   "execution_count": 16,
   "id": "84a0dd8d",
   "metadata": {
    "execution": {
     "iopub.execute_input": "2022-12-30T06:30:49.058973Z",
     "iopub.status.busy": "2022-12-30T06:30:49.057591Z",
     "iopub.status.idle": "2022-12-30T06:30:49.068161Z",
     "shell.execute_reply": "2022-12-30T06:30:49.066891Z"
    },
    "papermill": {
     "duration": 0.030419,
     "end_time": "2022-12-30T06:30:49.070799",
     "exception": false,
     "start_time": "2022-12-30T06:30:49.040380",
     "status": "completed"
    },
    "tags": []
   },
   "outputs": [
    {
     "data": {
      "text/plain": [
       "0.8852459016393442"
      ]
     },
     "execution_count": 16,
     "metadata": {},
     "output_type": "execute_result"
    }
   ],
   "source": [
    "lr.score(xtest,ytest)"
   ]
  },
  {
   "cell_type": "code",
   "execution_count": 17,
   "id": "99522078",
   "metadata": {
    "execution": {
     "iopub.execute_input": "2022-12-30T06:30:49.105369Z",
     "iopub.status.busy": "2022-12-30T06:30:49.104181Z",
     "iopub.status.idle": "2022-12-30T06:30:49.111139Z",
     "shell.execute_reply": "2022-12-30T06:30:49.109560Z"
    },
    "papermill": {
     "duration": 0.028311,
     "end_time": "2022-12-30T06:30:49.114467",
     "exception": false,
     "start_time": "2022-12-30T06:30:49.086156",
     "status": "completed"
    },
    "tags": []
   },
   "outputs": [],
   "source": [
    "yp=lr.predict(xtest)"
   ]
  },
  {
   "cell_type": "code",
   "execution_count": 18,
   "id": "e6ea88a6",
   "metadata": {
    "execution": {
     "iopub.execute_input": "2022-12-30T06:30:49.150704Z",
     "iopub.status.busy": "2022-12-30T06:30:49.149803Z",
     "iopub.status.idle": "2022-12-30T06:30:49.415656Z",
     "shell.execute_reply": "2022-12-30T06:30:49.413990Z"
    },
    "papermill": {
     "duration": 0.286816,
     "end_time": "2022-12-30T06:30:49.419024",
     "exception": false,
     "start_time": "2022-12-30T06:30:49.132208",
     "status": "completed"
    },
    "tags": []
   },
   "outputs": [
    {
     "data": {
      "text/plain": [
       "<AxesSubplot:>"
      ]
     },
     "execution_count": 18,
     "metadata": {},
     "output_type": "execute_result"
    },
    {
     "data": {
      "image/png": "[encoded data removed]",
      "text/plain": [
       "<Figure size 432x288 with 2 Axes>"
      ]
     },
     "metadata": {
      "needs_background": "light"
     },
     "output_type": "display_data"
    }
   ],
   "source": [
    "cn=confusion_matrix(ytest,yp)\n",
    "sns.heatmap(cn)"
   ]
  },
  {
   "cell_type": "code",
   "execution_count": 19,
   "id": "9414469f",
   "metadata": {
    "execution": {
     "iopub.execute_input": "2022-12-30T06:30:49.455424Z",
     "iopub.status.busy": "2022-12-30T06:30:49.454812Z",
     "iopub.status.idle": "2022-12-30T06:30:49.463531Z",
     "shell.execute_reply": "2022-12-30T06:30:49.462351Z"
    },
    "papermill": {
     "duration": 0.02972,
     "end_time": "2022-12-30T06:30:49.466120",
     "exception": false,
     "start_time": "2022-12-30T06:30:49.436400",
     "status": "completed"
    },
    "tags": []
   },
   "outputs": [
    {
     "data": {
      "text/plain": [
       "array([[25,  4],\n",
       "       [ 3, 29]])"
      ]
     },
     "execution_count": 19,
     "metadata": {},
     "output_type": "execute_result"
    }
   ],
   "source": [
    "cn"
   ]
  },
  {
   "cell_type": "code",
   "execution_count": null,
   "id": "95c15363",
   "metadata": {
    "papermill": {
     "duration": 0.017357,
     "end_time": "2022-12-30T06:30:49.501003",
     "exception": false,
     "start_time": "2022-12-30T06:30:49.483646",
     "status": "completed"
    },
    "tags": []
   },
   "outputs": [],
   "source": []
  },
  {
   "cell_type": "markdown",
   "id": "2f6256a8",
   "metadata": {
    "papermill": {
     "duration": 0.015594,
     "end_time": "2022-12-30T06:30:49.532570",
     "exception": false,
     "start_time": "2022-12-30T06:30:49.516976",
     "status": "completed"
    },
    "tags": []
   },
   "source": [
    "# USING SVC"
   ]
  },
  {
   "cell_type": "markdown",
   "id": "e63d99ec",
   "metadata": {
    "papermill": {
     "duration": 0.017464,
     "end_time": "2022-12-30T06:30:49.565885",
     "exception": false,
     "start_time": "2022-12-30T06:30:49.548421",
     "status": "completed"
    },
    "tags": []
   },
   "source": []
  },
  {
   "cell_type": "code",
   "execution_count": 20,
   "id": "cba8d150",
   "metadata": {
    "execution": {
     "iopub.execute_input": "2022-12-30T06:30:49.600610Z",
     "iopub.status.busy": "2022-12-30T06:30:49.600051Z",
     "iopub.status.idle": "2022-12-30T06:30:49.615745Z",
     "shell.execute_reply": "2022-12-30T06:30:49.614768Z"
    },
    "papermill": {
     "duration": 0.036251,
     "end_time": "2022-12-30T06:30:49.618451",
     "exception": false,
     "start_time": "2022-12-30T06:30:49.582200",
     "status": "completed"
    },
    "tags": []
   },
   "outputs": [
    {
     "data": {
      "text/plain": [
       "SVC()"
      ]
     },
     "execution_count": 20,
     "metadata": {},
     "output_type": "execute_result"
    }
   ],
   "source": [
    "sv=SVC()\n",
    "sv.fit(xtrain,ytrain)"
   ]
  },
  {
   "cell_type": "code",
   "execution_count": 21,
   "id": "8cd4159b",
   "metadata": {
    "execution": {
     "iopub.execute_input": "2022-12-30T06:30:49.655909Z",
     "iopub.status.busy": "2022-12-30T06:30:49.655384Z",
     "iopub.status.idle": "2022-12-30T06:30:49.665105Z",
     "shell.execute_reply": "2022-12-30T06:30:49.663822Z"
    },
    "papermill": {
     "duration": 0.031747,
     "end_time": "2022-12-30T06:30:49.668093",
     "exception": false,
     "start_time": "2022-12-30T06:30:49.636346",
     "status": "completed"
    },
    "tags": []
   },
   "outputs": [
    {
     "data": {
      "text/plain": [
       "0.8688524590163934"
      ]
     },
     "execution_count": 21,
     "metadata": {},
     "output_type": "execute_result"
    }
   ],
   "source": [
    "sv.score(xtest,ytest)"
   ]
  },
  {
   "cell_type": "code",
   "execution_count": null,
   "id": "d81b4ca0",
   "metadata": {
    "papermill": {
     "duration": 0.015823,
     "end_time": "2022-12-30T06:30:49.700104",
     "exception": false,
     "start_time": "2022-12-30T06:30:49.684281",
     "status": "completed"
    },
    "tags": []
   },
   "outputs": [],
   "source": []
  },
  {
   "cell_type": "markdown",
   "id": "1ddc5491",
   "metadata": {
    "papermill": {
     "duration": 0.017449,
     "end_time": "2022-12-30T06:30:49.739405",
     "exception": false,
     "start_time": "2022-12-30T06:30:49.721956",
     "status": "completed"
    },
    "tags": []
   },
   "source": [
    "# Random Forest Classifier"
   ]
  },
  {
   "cell_type": "markdown",
   "id": "2fede375",
   "metadata": {
    "papermill": {
     "duration": 0.01618,
     "end_time": "2022-12-30T06:30:49.773294",
     "exception": false,
     "start_time": "2022-12-30T06:30:49.757114",
     "status": "completed"
    },
    "tags": []
   },
   "source": []
  },
  {
   "cell_type": "code",
   "execution_count": 22,
   "id": "ad29d2fe",
   "metadata": {
    "execution": {
     "iopub.execute_input": "2022-12-30T06:30:49.808743Z",
     "iopub.status.busy": "2022-12-30T06:30:49.808212Z",
     "iopub.status.idle": "2022-12-30T06:30:49.813943Z",
     "shell.execute_reply": "2022-12-30T06:30:49.812633Z"
    },
    "papermill": {
     "duration": 0.02674,
     "end_time": "2022-12-30T06:30:49.816641",
     "exception": false,
     "start_time": "2022-12-30T06:30:49.789901",
     "status": "completed"
    },
    "tags": []
   },
   "outputs": [],
   "source": [
    "rfc=RandomForestClassifier(n_estimators=200)"
   ]
  },
  {
   "cell_type": "code",
   "execution_count": 23,
   "id": "d8c07384",
   "metadata": {
    "execution": {
     "iopub.execute_input": "2022-12-30T06:30:49.852569Z",
     "iopub.status.busy": "2022-12-30T06:30:49.851751Z",
     "iopub.status.idle": "2022-12-30T06:30:50.190932Z",
     "shell.execute_reply": "2022-12-30T06:30:50.189312Z"
    },
    "papermill": {
     "duration": 0.360812,
     "end_time": "2022-12-30T06:30:50.194165",
     "exception": false,
     "start_time": "2022-12-30T06:30:49.833353",
     "status": "completed"
    },
    "tags": []
   },
   "outputs": [
    {
     "data": {
      "text/plain": [
       "RandomForestClassifier(n_estimators=200)"
      ]
     },
     "execution_count": 23,
     "metadata": {},
     "output_type": "execute_result"
    }
   ],
   "source": [
    "rfc.fit(xtrain,ytrain)"
   ]
  },
  {
   "cell_type": "code",
   "execution_count": 24,
   "id": "e623fcc2",
   "metadata": {
    "execution": {
     "iopub.execute_input": "2022-12-30T06:30:50.228702Z",
     "iopub.status.busy": "2022-12-30T06:30:50.228181Z",
     "iopub.status.idle": "2022-12-30T06:30:50.265654Z",
     "shell.execute_reply": "2022-12-30T06:30:50.264100Z"
    },
    "papermill": {
     "duration": 0.058541,
     "end_time": "2022-12-30T06:30:50.269006",
     "exception": false,
     "start_time": "2022-12-30T06:30:50.210465",
     "status": "completed"
    },
    "tags": []
   },
   "outputs": [
    {
     "data": {
      "text/plain": [
       "0.8524590163934426"
      ]
     },
     "execution_count": 24,
     "metadata": {},
     "output_type": "execute_result"
    }
   ],
   "source": [
    "rfc.score(xtest,ytest)"
   ]
  },
  {
   "cell_type": "code",
   "execution_count": null,
   "id": "344e69ff",
   "metadata": {
    "papermill": {
     "duration": 0.016638,
     "end_time": "2022-12-30T06:30:50.304153",
     "exception": false,
     "start_time": "2022-12-30T06:30:50.287515",
     "status": "completed"
    },
    "tags": []
   },
   "outputs": [],
   "source": []
  },
  {
   "cell_type": "markdown",
   "id": "8dcd3245",
   "metadata": {
    "papermill": {
     "duration": 0.016052,
     "end_time": "2022-12-30T06:30:50.337123",
     "exception": false,
     "start_time": "2022-12-30T06:30:50.321071",
     "status": "completed"
    },
    "tags": []
   },
   "source": [
    "# Cross validation "
   ]
  },
  {
   "cell_type": "code",
   "execution_count": 25,
   "id": "39e1a915",
   "metadata": {
    "execution": {
     "iopub.execute_input": "2022-12-30T06:30:50.375213Z",
     "iopub.status.busy": "2022-12-30T06:30:50.374482Z",
     "iopub.status.idle": "2022-12-30T06:30:50.379897Z",
     "shell.execute_reply": "2022-12-30T06:30:50.379006Z"
    },
    "papermill": {
     "duration": 0.027769,
     "end_time": "2022-12-30T06:30:50.382532",
     "exception": false,
     "start_time": "2022-12-30T06:30:50.354763",
     "status": "completed"
    },
    "tags": []
   },
   "outputs": [],
   "source": [
    "from sklearn.model_selection import cross_val_score"
   ]
  },
  {
   "cell_type": "markdown",
   "id": "8151d09f",
   "metadata": {
    "papermill": {
     "duration": 0.015693,
     "end_time": "2022-12-30T06:30:50.414429",
     "exception": false,
     "start_time": "2022-12-30T06:30:50.398736",
     "status": "completed"
    },
    "tags": []
   },
   "source": []
  },
  {
   "cell_type": "code",
   "execution_count": 26,
   "id": "2c407309",
   "metadata": {
    "execution": {
     "iopub.execute_input": "2022-12-30T06:30:50.450860Z",
     "iopub.status.busy": "2022-12-30T06:30:50.450009Z",
     "iopub.status.idle": "2022-12-30T06:30:53.820304Z",
     "shell.execute_reply": "2022-12-30T06:30:53.818668Z"
    },
    "papermill": {
     "duration": 3.391944,
     "end_time": "2022-12-30T06:30:53.823455",
     "exception": false,
     "start_time": "2022-12-30T06:30:50.431511",
     "status": "completed"
    },
    "tags": []
   },
   "outputs": [
    {
     "data": {
      "text/plain": [
       "0.8223333333333335"
      ]
     },
     "execution_count": 26,
     "metadata": {},
     "output_type": "execute_result"
    }
   ],
   "source": [
    "rfm=cross_val_score(rfc,X=xtrain,y=ytrain,cv=10)\n",
    "rfm.mean()"
   ]
  },
  {
   "cell_type": "code",
   "execution_count": null,
   "id": "386b1b3f",
   "metadata": {
    "papermill": {
     "duration": 0.015836,
     "end_time": "2022-12-30T06:30:53.855635",
     "exception": false,
     "start_time": "2022-12-30T06:30:53.839799",
     "status": "completed"
    },
    "tags": []
   },
   "outputs": [],
   "source": []
  },
  {
   "cell_type": "markdown",
   "id": "daba2935",
   "metadata": {
    "papermill": {
     "duration": 0.015836,
     "end_time": "2022-12-30T06:30:53.887756",
     "exception": false,
     "start_time": "2022-12-30T06:30:53.871920",
     "status": "completed"
    },
    "tags": []
   },
   "source": [
    "# K-Nearest Neighbour"
   ]
  },
  {
   "cell_type": "code",
   "execution_count": 27,
   "id": "b08473cb",
   "metadata": {
    "execution": {
     "iopub.execute_input": "2022-12-30T06:30:53.922841Z",
     "iopub.status.busy": "2022-12-30T06:30:53.922339Z",
     "iopub.status.idle": "2022-12-30T06:30:53.928608Z",
     "shell.execute_reply": "2022-12-30T06:30:53.927097Z"
    },
    "papermill": {
     "duration": 0.026913,
     "end_time": "2022-12-30T06:30:53.931453",
     "exception": false,
     "start_time": "2022-12-30T06:30:53.904540",
     "status": "completed"
    },
    "tags": []
   },
   "outputs": [],
   "source": [
    "from sklearn.neighbors import KNeighborsClassifier"
   ]
  },
  {
   "cell_type": "code",
   "execution_count": 28,
   "id": "fdd8f0ed",
   "metadata": {
    "execution": {
     "iopub.execute_input": "2022-12-30T06:30:53.966162Z",
     "iopub.status.busy": "2022-12-30T06:30:53.965629Z",
     "iopub.status.idle": "2022-12-30T06:30:53.972063Z",
     "shell.execute_reply": "2022-12-30T06:30:53.970656Z"
    },
    "papermill": {
     "duration": 0.026823,
     "end_time": "2022-12-30T06:30:53.974739",
     "exception": false,
     "start_time": "2022-12-30T06:30:53.947916",
     "status": "completed"
    },
    "tags": []
   },
   "outputs": [],
   "source": [
    "knc=KNeighborsClassifier(n_neighbors=5)"
   ]
  },
  {
   "cell_type": "code",
   "execution_count": 29,
   "id": "6d590c08",
   "metadata": {
    "execution": {
     "iopub.execute_input": "2022-12-30T06:30:54.011496Z",
     "iopub.status.busy": "2022-12-30T06:30:54.010954Z",
     "iopub.status.idle": "2022-12-30T06:30:54.021010Z",
     "shell.execute_reply": "2022-12-30T06:30:54.019681Z"
    },
    "papermill": {
     "duration": 0.031243,
     "end_time": "2022-12-30T06:30:54.023850",
     "exception": false,
     "start_time": "2022-12-30T06:30:53.992607",
     "status": "completed"
    },
    "tags": []
   },
   "outputs": [
    {
     "data": {
      "text/plain": [
       "KNeighborsClassifier()"
      ]
     },
     "execution_count": 29,
     "metadata": {},
     "output_type": "execute_result"
    }
   ],
   "source": [
    "knc.fit(xtrain,ytrain)"
   ]
  },
  {
   "cell_type": "code",
   "execution_count": 30,
   "id": "a38a024d",
   "metadata": {
    "execution": {
     "iopub.execute_input": "2022-12-30T06:30:54.060089Z",
     "iopub.status.busy": "2022-12-30T06:30:54.059630Z",
     "iopub.status.idle": "2022-12-30T06:30:54.072107Z",
     "shell.execute_reply": "2022-12-30T06:30:54.071102Z"
    },
    "papermill": {
     "duration": 0.033908,
     "end_time": "2022-12-30T06:30:54.074730",
     "exception": false,
     "start_time": "2022-12-30T06:30:54.040822",
     "status": "completed"
    },
    "tags": []
   },
   "outputs": [
    {
     "data": {
      "text/plain": [
       "0.9016393442622951"
      ]
     },
     "execution_count": 30,
     "metadata": {},
     "output_type": "execute_result"
    }
   ],
   "source": [
    "knc.score(xtest,ytest)"
   ]
  },
  {
   "cell_type": "code",
   "execution_count": 31,
   "id": "fcd5385f",
   "metadata": {
    "execution": {
     "iopub.execute_input": "2022-12-30T06:30:54.111496Z",
     "iopub.status.busy": "2022-12-30T06:30:54.111007Z",
     "iopub.status.idle": "2022-12-30T06:30:54.128870Z",
     "shell.execute_reply": "2022-12-30T06:30:54.127560Z"
    },
    "papermill": {
     "duration": 0.039036,
     "end_time": "2022-12-30T06:30:54.131663",
     "exception": false,
     "start_time": "2022-12-30T06:30:54.092627",
     "status": "completed"
    },
    "tags": []
   },
   "outputs": [
    {
     "data": {
      "text/html": [
       "<div>\n",
       "<style scoped>\n",
       "    .dataframe tbody tr th:only-of-type {\n",
       "        vertical-align: middle;\n",
       "    }\n",
       "\n",
       "    .dataframe tbody tr th {\n",
       "        vertical-align: top;\n",
       "    }\n",
       "\n",
       "    .dataframe thead th {\n",
       "        text-align: right;\n",
       "    }\n",
       "</style>\n",
       "<table border=\"1\" class=\"dataframe\">\n",
       "  <thead>\n",
       "    <tr style=\"text-align: right;\">\n",
       "      <th></th>\n",
       "      <th>age</th>\n",
       "      <th>sex</th>\n",
       "      <th>cp</th>\n",
       "      <th>trtbps</th>\n",
       "      <th>chol</th>\n",
       "      <th>fbs</th>\n",
       "      <th>restecg</th>\n",
       "      <th>thalachh</th>\n",
       "      <th>exng</th>\n",
       "      <th>oldpeak</th>\n",
       "      <th>slp</th>\n",
       "      <th>caa</th>\n",
       "      <th>thall</th>\n",
       "      <th>output</th>\n",
       "    </tr>\n",
       "  </thead>\n",
       "  <tbody>\n",
       "    <tr>\n",
       "      <th>0</th>\n",
       "      <td>63</td>\n",
       "      <td>1</td>\n",
       "      <td>3</td>\n",
       "      <td>145</td>\n",
       "      <td>233</td>\n",
       "      <td>1</td>\n",
       "      <td>0</td>\n",
       "      <td>150</td>\n",
       "      <td>0</td>\n",
       "      <td>2.3</td>\n",
       "      <td>0</td>\n",
       "      <td>0</td>\n",
       "      <td>1</td>\n",
       "      <td>1</td>\n",
       "    </tr>\n",
       "    <tr>\n",
       "      <th>1</th>\n",
       "      <td>37</td>\n",
       "      <td>1</td>\n",
       "      <td>2</td>\n",
       "      <td>130</td>\n",
       "      <td>250</td>\n",
       "      <td>0</td>\n",
       "      <td>1</td>\n",
       "      <td>187</td>\n",
       "      <td>0</td>\n",
       "      <td>3.5</td>\n",
       "      <td>0</td>\n",
       "      <td>0</td>\n",
       "      <td>2</td>\n",
       "      <td>1</td>\n",
       "    </tr>\n",
       "    <tr>\n",
       "      <th>2</th>\n",
       "      <td>41</td>\n",
       "      <td>0</td>\n",
       "      <td>1</td>\n",
       "      <td>130</td>\n",
       "      <td>204</td>\n",
       "      <td>0</td>\n",
       "      <td>0</td>\n",
       "      <td>172</td>\n",
       "      <td>0</td>\n",
       "      <td>1.4</td>\n",
       "      <td>2</td>\n",
       "      <td>0</td>\n",
       "      <td>2</td>\n",
       "      <td>1</td>\n",
       "    </tr>\n",
       "    <tr>\n",
       "      <th>3</th>\n",
       "      <td>56</td>\n",
       "      <td>1</td>\n",
       "      <td>1</td>\n",
       "      <td>120</td>\n",
       "      <td>236</td>\n",
       "      <td>0</td>\n",
       "      <td>1</td>\n",
       "      <td>178</td>\n",
       "      <td>0</td>\n",
       "      <td>0.8</td>\n",
       "      <td>2</td>\n",
       "      <td>0</td>\n",
       "      <td>2</td>\n",
       "      <td>1</td>\n",
       "    </tr>\n",
       "    <tr>\n",
       "      <th>4</th>\n",
       "      <td>57</td>\n",
       "      <td>0</td>\n",
       "      <td>0</td>\n",
       "      <td>120</td>\n",
       "      <td>354</td>\n",
       "      <td>0</td>\n",
       "      <td>1</td>\n",
       "      <td>163</td>\n",
       "      <td>1</td>\n",
       "      <td>0.6</td>\n",
       "      <td>2</td>\n",
       "      <td>0</td>\n",
       "      <td>2</td>\n",
       "      <td>1</td>\n",
       "    </tr>\n",
       "    <tr>\n",
       "      <th>5</th>\n",
       "      <td>57</td>\n",
       "      <td>1</td>\n",
       "      <td>0</td>\n",
       "      <td>140</td>\n",
       "      <td>192</td>\n",
       "      <td>0</td>\n",
       "      <td>1</td>\n",
       "      <td>148</td>\n",
       "      <td>0</td>\n",
       "      <td>0.4</td>\n",
       "      <td>1</td>\n",
       "      <td>0</td>\n",
       "      <td>1</td>\n",
       "      <td>1</td>\n",
       "    </tr>\n",
       "    <tr>\n",
       "      <th>6</th>\n",
       "      <td>56</td>\n",
       "      <td>0</td>\n",
       "      <td>1</td>\n",
       "      <td>140</td>\n",
       "      <td>294</td>\n",
       "      <td>0</td>\n",
       "      <td>0</td>\n",
       "      <td>153</td>\n",
       "      <td>0</td>\n",
       "      <td>1.3</td>\n",
       "      <td>1</td>\n",
       "      <td>0</td>\n",
       "      <td>2</td>\n",
       "      <td>1</td>\n",
       "    </tr>\n",
       "  </tbody>\n",
       "</table>\n",
       "</div>"
      ],
      "text/plain": [
       "   age  sex  cp  trtbps  chol  fbs  restecg  thalachh  exng  oldpeak  slp  \\\n",
       "0   63    1   3     145   233    1        0       150     0      2.3    0   \n",
       "1   37    1   2     130   250    0        1       187     0      3.5    0   \n",
       "2   41    0   1     130   204    0        0       172     0      1.4    2   \n",
       "3   56    1   1     120   236    0        1       178     0      0.8    2   \n",
       "4   57    0   0     120   354    0        1       163     1      0.6    2   \n",
       "5   57    1   0     140   192    0        1       148     0      0.4    1   \n",
       "6   56    0   1     140   294    0        0       153     0      1.3    1   \n",
       "\n",
       "   caa  thall  output  \n",
       "0    0      1       1  \n",
       "1    0      2       1  \n",
       "2    0      2       1  \n",
       "3    0      2       1  \n",
       "4    0      2       1  \n",
       "5    0      1       1  \n",
       "6    0      2       1  "
      ]
     },
     "execution_count": 31,
     "metadata": {},
     "output_type": "execute_result"
    }
   ],
   "source": [
    "df.head(7)"
   ]
  },
  {
   "cell_type": "markdown",
   "id": "f54f9aa0",
   "metadata": {
    "papermill": {
     "duration": 0.016276,
     "end_time": "2022-12-30T06:30:54.168460",
     "exception": false,
     "start_time": "2022-12-30T06:30:54.152184",
     "status": "completed"
    },
    "tags": []
   },
   "source": [
    "# Predicting the values"
   ]
  },
  {
   "cell_type": "code",
   "execution_count": 32,
   "id": "04456769",
   "metadata": {
    "execution": {
     "iopub.execute_input": "2022-12-30T06:30:54.204800Z",
     "iopub.status.busy": "2022-12-30T06:30:54.203393Z",
     "iopub.status.idle": "2022-12-30T06:30:54.214502Z",
     "shell.execute_reply": "2022-12-30T06:30:54.213360Z"
    },
    "papermill": {
     "duration": 0.031759,
     "end_time": "2022-12-30T06:30:54.216960",
     "exception": false,
     "start_time": "2022-12-30T06:30:54.185201",
     "status": "completed"
    },
    "tags": []
   },
   "outputs": [
    {
     "data": {
      "text/plain": [
       "array([1])"
      ]
     },
     "execution_count": 32,
     "metadata": {},
     "output_type": "execute_result"
    }
   ],
   "source": [
    "a=[[52,0,2,140,230,1,0,160,1,2.7,0,0,1]]\n",
    "knc.predict(a)"
   ]
  },
  {
   "cell_type": "markdown",
   "id": "b97464ae",
   "metadata": {
    "papermill": {
     "duration": 0.017005,
     "end_time": "2022-12-30T06:30:54.251513",
     "exception": false,
     "start_time": "2022-12-30T06:30:54.234508",
     "status": "completed"
    },
    "tags": []
   },
   "source": [
    "results show that in this case there is a high chance of getting heartattack"
   ]
  },
  {
   "cell_type": "markdown",
   "id": "17cf7e7f",
   "metadata": {
    "papermill": {
     "duration": 0.01651,
     "end_time": "2022-12-30T06:30:54.285561",
     "exception": false,
     "start_time": "2022-12-30T06:30:54.269051",
     "status": "completed"
    },
    "tags": []
   },
   "source": [
    "# Saving Model"
   ]
  },
  {
   "cell_type": "code",
   "execution_count": 33,
   "id": "d83e5327",
   "metadata": {
    "execution": {
     "iopub.execute_input": "2022-12-30T06:30:54.323154Z",
     "iopub.status.busy": "2022-12-30T06:30:54.322649Z",
     "iopub.status.idle": "2022-12-30T06:30:54.330349Z",
     "shell.execute_reply": "2022-12-30T06:30:54.329151Z"
    },
    "papermill": {
     "duration": 0.030806,
     "end_time": "2022-12-30T06:30:54.333204",
     "exception": false,
     "start_time": "2022-12-30T06:30:54.302398",
     "status": "completed"
    },
    "tags": []
   },
   "outputs": [],
   "source": [
    "import pickle\n",
    "model='knc.sav'\n",
    "pickle.dump(knc,open(model,'wb'))"
   ]
  },
  {
   "cell_type": "markdown",
   "id": "d1b28d9b",
   "metadata": {
    "papermill": {
     "duration": 0.017031,
     "end_time": "2022-12-30T06:30:54.367562",
     "exception": false,
     "start_time": "2022-12-30T06:30:54.350531",
     "status": "completed"
    },
    "tags": []
   },
   "source": []
  },
  {
   "cell_type": "markdown",
   "id": "35876b6f",
   "metadata": {
    "papermill": {
     "duration": 0.016603,
     "end_time": "2022-12-30T06:30:54.401340",
     "exception": false,
     "start_time": "2022-12-30T06:30:54.384737",
     "status": "completed"
    },
    "tags": []
   },
   "source": []
  },
  {
   "cell_type": "markdown",
   "id": "005ea3b1",
   "metadata": {
    "papermill": {
     "duration": 0.016447,
     "end_time": "2022-12-30T06:30:54.434426",
     "exception": false,
     "start_time": "2022-12-30T06:30:54.417979",
     "status": "completed"
    },
    "tags": []
   },
   "source": []
  },
  {
   "cell_type": "code",
   "execution_count": null,
   "id": "5f1e2472",
   "metadata": {
    "papermill": {
     "duration": 0.017107,
     "end_time": "2022-12-30T06:30:54.468315",
     "exception": false,
     "start_time": "2022-12-30T06:30:54.451208",
     "status": "completed"
    },
    "tags": []
   },
   "outputs": [],
   "source": []
  },
  {
   "cell_type": "markdown",
   "id": "d82ba300",
   "metadata": {
    "papermill": {
     "duration": 0.016244,
     "end_time": "2022-12-30T06:30:54.501340",
     "exception": false,
     "start_time": "2022-12-30T06:30:54.485096",
     "status": "completed"
    },
    "tags": []
   },
   "source": []
  },
  {
   "cell_type": "code",
   "execution_count": null,
   "id": "b9e8ab48",
   "metadata": {
    "papermill": {
     "duration": 0.017297,
     "end_time": "2022-12-30T06:30:54.535338",
     "exception": false,
     "start_time": "2022-12-30T06:30:54.518041",
     "status": "completed"
    },
    "tags": []
   },
   "outputs": [],
   "source": []
  },
  {
   "cell_type": "code",
   "execution_count": null,
   "id": "8d4d19bc",
   "metadata": {
    "papermill": {
     "duration": 0.017872,
     "end_time": "2022-12-30T06:30:54.571192",
     "exception": false,
     "start_time": "2022-12-30T06:30:54.553320",
     "status": "completed"
    },
    "tags": []
   },
   "outputs": [],
   "source": []
  }
 ],
 "metadata": {
  "kernelspec": {
   "display_name": "Python 3",
   "language": "python",
   "name": "python3"
  },
  "language_info": {
   "codemirror_mode": {
    "name": "ipython",
    "version": 3
   },
   "file_extension": ".py",
   "mimetype": "text/x-python",
   "name": "python",
   "nbconvert_exporter": "python",
   "pygments_lexer": "ipython3",
   "version": "3.7.12"
  },
  "papermill": {
   "default_parameters": {},
   "duration": 21.598151,
   "end_time": "2022-12-30T06:30:55.614673",
   "environment_variables": {},
   "exception": null,
   "input_path": "__notebook__.ipynb",
   "output_path": "__notebook__.ipynb",
   "parameters": {},
   "start_time": "2022-12-30T06:30:34.016522",
   "version": "2.3.4"
  }
 },
 "nbformat": 4,
 "nbformat_minor": 5
}
